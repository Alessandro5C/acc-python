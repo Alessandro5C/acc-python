{
  "nbformat": 4,
  "nbformat_minor": 0,
  "metadata": {
    "kernelspec": {
      "display_name": "Python 3",
      "language": "python",
      "name": "python3"
    },
    "language_info": {
      "codemirror_mode": {
        "name": "ipython",
        "version": 3
      },
      "file_extension": ".py",
      "mimetype": "text/x-python",
      "name": "python",
      "nbconvert_exporter": "python",
      "pygments_lexer": "ipython3",
      "version": "3.8.5"
    },
    "colab": {
      "name": "05-Numpy Ejercicios-Solución-Alessandro.ipynb",
      "provenance": []
    }
  },
  "cells": [
    {
      "cell_type": "markdown",
      "metadata": {
        "id": "9waZbTVRUPCz"
      },
      "source": [
        "___\n",
        "\n",
        "<a href='https://jupyter-notebook.readthedocs.io/en/stable/examples/Notebook/Running%20Code.html'> <img src='https://www.python.org/static/img/python-logo.png' /></a>\n",
        "___"
      ]
    },
    {
      "cell_type": "markdown",
      "metadata": {
        "id": "O176m2aYUPC-"
      },
      "source": [
        "# NumPy Ejercicios\n",
        "\n",
        "Ahora que hemos aprendido sobre NumPy, probemos los conocimientos. Comenzaremos con algunas tareas simples y luego se harán algunas preguntas más complicadas."
      ]
    },
    {
      "cell_type": "markdown",
      "metadata": {
        "id": "SF5RMjwaUPC_"
      },
      "source": [
        "#### Importar NumPy como np"
      ]
    },
    {
      "cell_type": "code",
      "metadata": {
        "collapsed": true,
        "id": "tv_DvRExUPDA"
      },
      "source": [
        "import numpy as np"
      ],
      "execution_count": 1,
      "outputs": []
    },
    {
      "cell_type": "markdown",
      "metadata": {
        "id": "IrRzJ8v3UPDA"
      },
      "source": [
        "#### Crear un array de 10 zeros "
      ]
    },
    {
      "cell_type": "code",
      "metadata": {
        "id": "E_J3U2nWUPDB",
        "colab": {
          "base_uri": "https://localhost:8080/"
        },
        "outputId": "ee51cbe2-f535-42b4-b03c-b0c369303ee2"
      },
      "source": [
        "np.zeros(10)"
      ],
      "execution_count": 4,
      "outputs": [
        {
          "output_type": "execute_result",
          "data": {
            "text/plain": [
              "array([0., 0., 0., 0., 0., 0., 0., 0., 0., 0.])"
            ]
          },
          "metadata": {
            "tags": []
          },
          "execution_count": 4
        }
      ]
    },
    {
      "cell_type": "markdown",
      "metadata": {
        "id": "0jTXgd_yUPDC"
      },
      "source": [
        "#### Crear un array de 10 ones"
      ]
    },
    {
      "cell_type": "code",
      "metadata": {
        "id": "l59lIJYKUPDD",
        "colab": {
          "base_uri": "https://localhost:8080/"
        },
        "outputId": "7e3282c9-a807-4197-b9f9-9919436cab6e"
      },
      "source": [
        "np.ones(10)"
      ],
      "execution_count": 5,
      "outputs": [
        {
          "output_type": "execute_result",
          "data": {
            "text/plain": [
              "array([1., 1., 1., 1., 1., 1., 1., 1., 1., 1.])"
            ]
          },
          "metadata": {
            "tags": []
          },
          "execution_count": 5
        }
      ]
    },
    {
      "cell_type": "markdown",
      "metadata": {
        "id": "-pf0mfZiUPDD"
      },
      "source": [
        "#### Crear un array de 10 cincos"
      ]
    },
    {
      "cell_type": "code",
      "metadata": {
        "id": "d7fiFYxvUPDE",
        "colab": {
          "base_uri": "https://localhost:8080/"
        },
        "outputId": "2205d74d-c362-49dc-b154-f27738821b29"
      },
      "source": [
        "np.ones(10)*5"
      ],
      "execution_count": 6,
      "outputs": [
        {
          "output_type": "execute_result",
          "data": {
            "text/plain": [
              "array([5., 5., 5., 5., 5., 5., 5., 5., 5., 5.])"
            ]
          },
          "metadata": {
            "tags": []
          },
          "execution_count": 6
        }
      ]
    },
    {
      "cell_type": "markdown",
      "metadata": {
        "id": "HeyOsZPIUPDE"
      },
      "source": [
        "#### Crear un array de enteros desde 10 a 50"
      ]
    },
    {
      "cell_type": "code",
      "metadata": {
        "id": "afJ0p6nUUPDE",
        "colab": {
          "base_uri": "https://localhost:8080/"
        },
        "outputId": "aefc6a58-fa25-4517-ad71-16a3233d0dc6"
      },
      "source": [
        "np.arange(10, 51)"
      ],
      "execution_count": 8,
      "outputs": [
        {
          "output_type": "execute_result",
          "data": {
            "text/plain": [
              "array([10, 11, 12, 13, 14, 15, 16, 17, 18, 19, 20, 21, 22, 23, 24, 25, 26,\n",
              "       27, 28, 29, 30, 31, 32, 33, 34, 35, 36, 37, 38, 39, 40, 41, 42, 43,\n",
              "       44, 45, 46, 47, 48, 49, 50])"
            ]
          },
          "metadata": {
            "tags": []
          },
          "execution_count": 8
        }
      ]
    },
    {
      "cell_type": "markdown",
      "metadata": {
        "id": "TTYu2bopUPDF"
      },
      "source": [
        "#### Cree una matriz de todos los enteros pares del 10 al 50"
      ]
    },
    {
      "cell_type": "code",
      "metadata": {
        "id": "axgV8XYqUPDF",
        "colab": {
          "base_uri": "https://localhost:8080/"
        },
        "outputId": "db4de80d-92fa-402c-d643-4513135c1eeb"
      },
      "source": [
        "np.arange(10, 51, 2)"
      ],
      "execution_count": 9,
      "outputs": [
        {
          "output_type": "execute_result",
          "data": {
            "text/plain": [
              "array([10, 12, 14, 16, 18, 20, 22, 24, 26, 28, 30, 32, 34, 36, 38, 40, 42,\n",
              "       44, 46, 48, 50])"
            ]
          },
          "metadata": {
            "tags": []
          },
          "execution_count": 9
        }
      ]
    },
    {
      "cell_type": "markdown",
      "metadata": {
        "id": "lYDxDwcDUPDG"
      },
      "source": [
        "#### Cree una matriz de 3x3 con valores que van de 0 a 8"
      ]
    },
    {
      "cell_type": "code",
      "metadata": {
        "id": "Yp1K1Jc2UPDG",
        "colab": {
          "base_uri": "https://localhost:8080/"
        },
        "outputId": "79037b2b-f0bc-4098-afec-28675772485d"
      },
      "source": [
        "np.arange(0, 9).reshape(3, 3)\n"
      ],
      "execution_count": 14,
      "outputs": [
        {
          "output_type": "execute_result",
          "data": {
            "text/plain": [
              "array([[0, 1, 2],\n",
              "       [3, 4, 5],\n",
              "       [6, 7, 8]])"
            ]
          },
          "metadata": {
            "tags": []
          },
          "execution_count": 14
        }
      ]
    },
    {
      "cell_type": "markdown",
      "metadata": {
        "id": "GN4siLV_UPDG"
      },
      "source": [
        "#### Crear una matriz de identidad de 3x3"
      ]
    },
    {
      "cell_type": "code",
      "metadata": {
        "id": "o1dpkUl8UPDG",
        "colab": {
          "base_uri": "https://localhost:8080/"
        },
        "outputId": "c35c4fd5-5856-4c33-f641-6c87bbc56df2"
      },
      "source": [
        "np.eye(3, 3)"
      ],
      "execution_count": 16,
      "outputs": [
        {
          "output_type": "execute_result",
          "data": {
            "text/plain": [
              "array([[1., 0., 0.],\n",
              "       [0., 1., 0.],\n",
              "       [0., 0., 1.]])"
            ]
          },
          "metadata": {
            "tags": []
          },
          "execution_count": 16
        }
      ]
    },
    {
      "cell_type": "markdown",
      "metadata": {
        "id": "NR6_wQygUPDH"
      },
      "source": [
        "#### Use NumPy para generar un número aleatorio entre 0 y 1"
      ]
    },
    {
      "cell_type": "code",
      "metadata": {
        "id": "EvCE2kxMUPDH",
        "colab": {
          "base_uri": "https://localhost:8080/"
        },
        "outputId": "7fbde1a4-dbea-4bd9-ac7f-99377ed2f819"
      },
      "source": [
        "np.random.rand()"
      ],
      "execution_count": 18,
      "outputs": [
        {
          "output_type": "execute_result",
          "data": {
            "text/plain": [
              "0.5113629504936398"
            ]
          },
          "metadata": {
            "tags": []
          },
          "execution_count": 18
        }
      ]
    },
    {
      "cell_type": "markdown",
      "metadata": {
        "id": "X0jPtK_0UPDH"
      },
      "source": [
        "#### Utilice NumPy para generar una matriz de 25 números aleatorios muestreados a partir de una distribución normal estándar"
      ]
    },
    {
      "cell_type": "code",
      "metadata": {
        "id": "S2l3s3cnUPDI",
        "colab": {
          "base_uri": "https://localhost:8080/"
        },
        "outputId": "6863b4b3-c509-45ed-b73f-d7f31104b294"
      },
      "source": [
        "np.random.randn(25)"
      ],
      "execution_count": 20,
      "outputs": [
        {
          "output_type": "execute_result",
          "data": {
            "text/plain": [
              "array([ 0.38426541,  1.16462735, -0.72850613, -0.81173237,  0.90282549,\n",
              "       -1.66185141,  0.03815613, -1.82210525, -0.12510688, -0.28401302,\n",
              "        0.09687133,  1.59971561,  0.41840547, -1.75603354,  1.17824456,\n",
              "        1.28911891,  1.00082286, -1.16469298, -0.26585591, -0.916467  ,\n",
              "       -0.1723692 , -0.71462684, -0.74469133, -0.78873386, -1.53817345])"
            ]
          },
          "metadata": {
            "tags": []
          },
          "execution_count": 20
        }
      ]
    },
    {
      "cell_type": "markdown",
      "metadata": {
        "id": "HJWpoJLJUPDI"
      },
      "source": [
        "#### Cree la siguiente matriz:"
      ]
    },
    {
      "cell_type": "code",
      "metadata": {
        "id": "XScGr48HUPDI",
        "colab": {
          "base_uri": "https://localhost:8080/"
        },
        "outputId": "767d28a5-ccdc-4604-f77a-6ca07584dcfa"
      },
      "source": [
        "offset = 0.01\n",
        "np.arange(0+offset, 1+offset, offset).reshape(10,10)"
      ],
      "execution_count": 29,
      "outputs": [
        {
          "output_type": "execute_result",
          "data": {
            "text/plain": [
              "array([[0.01, 0.02, 0.03, 0.04, 0.05, 0.06, 0.07, 0.08, 0.09, 0.1 ],\n",
              "       [0.11, 0.12, 0.13, 0.14, 0.15, 0.16, 0.17, 0.18, 0.19, 0.2 ],\n",
              "       [0.21, 0.22, 0.23, 0.24, 0.25, 0.26, 0.27, 0.28, 0.29, 0.3 ],\n",
              "       [0.31, 0.32, 0.33, 0.34, 0.35, 0.36, 0.37, 0.38, 0.39, 0.4 ],\n",
              "       [0.41, 0.42, 0.43, 0.44, 0.45, 0.46, 0.47, 0.48, 0.49, 0.5 ],\n",
              "       [0.51, 0.52, 0.53, 0.54, 0.55, 0.56, 0.57, 0.58, 0.59, 0.6 ],\n",
              "       [0.61, 0.62, 0.63, 0.64, 0.65, 0.66, 0.67, 0.68, 0.69, 0.7 ],\n",
              "       [0.71, 0.72, 0.73, 0.74, 0.75, 0.76, 0.77, 0.78, 0.79, 0.8 ],\n",
              "       [0.81, 0.82, 0.83, 0.84, 0.85, 0.86, 0.87, 0.88, 0.89, 0.9 ],\n",
              "       [0.91, 0.92, 0.93, 0.94, 0.95, 0.96, 0.97, 0.98, 0.99, 1.  ]])"
            ]
          },
          "metadata": {
            "tags": []
          },
          "execution_count": 29
        }
      ]
    },
    {
      "cell_type": "markdown",
      "metadata": {
        "id": "MbD_BWopUPDJ"
      },
      "source": [
        "#### Cree una matriz de 20 puntos espaciados linealmente entre 0 y 1:"
      ]
    },
    {
      "cell_type": "code",
      "metadata": {
        "id": "z3qKwUh-UPDJ",
        "colab": {
          "base_uri": "https://localhost:8080/"
        },
        "outputId": "6717762c-d91e-4452-fc2d-aa41d97ec00a"
      },
      "source": [
        "np.linspace(0, 1, 20)"
      ],
      "execution_count": 31,
      "outputs": [
        {
          "output_type": "execute_result",
          "data": {
            "text/plain": [
              "array([0.        , 0.05263158, 0.10526316, 0.15789474, 0.21052632,\n",
              "       0.26315789, 0.31578947, 0.36842105, 0.42105263, 0.47368421,\n",
              "       0.52631579, 0.57894737, 0.63157895, 0.68421053, 0.73684211,\n",
              "       0.78947368, 0.84210526, 0.89473684, 0.94736842, 1.        ])"
            ]
          },
          "metadata": {
            "tags": []
          },
          "execution_count": 31
        }
      ]
    },
    {
      "cell_type": "markdown",
      "metadata": {
        "id": "WJJJQ60pUPDJ"
      },
      "source": [
        "## Numpy Indexación y Selección\n",
        "\n",
        "Ahora se le darán algunas matrices y se le pedirá que replique los resultados de la matriz resultante:"
      ]
    },
    {
      "cell_type": "code",
      "metadata": {
        "id": "tapMaLSGUPDJ",
        "colab": {
          "base_uri": "https://localhost:8080/"
        },
        "outputId": "045e2212-8d95-44e5-d2e2-07ffd4299372"
      },
      "source": [
        "mat = np.arange(1,26).reshape(5,5)\n",
        "mat"
      ],
      "execution_count": 37,
      "outputs": [
        {
          "output_type": "execute_result",
          "data": {
            "text/plain": [
              "array([[ 1,  2,  3,  4,  5],\n",
              "       [ 6,  7,  8,  9, 10],\n",
              "       [11, 12, 13, 14, 15],\n",
              "       [16, 17, 18, 19, 20],\n",
              "       [21, 22, 23, 24, 25]])"
            ]
          },
          "metadata": {
            "tags": []
          },
          "execution_count": 37
        }
      ]
    },
    {
      "cell_type": "code",
      "metadata": {
        "collapsed": true,
        "id": "EWnf5NawUPDK"
      },
      "source": [
        "# ESCRIBA AQUÍ EL CÓDIGO QUE REPRODUCE LA SALIDA DE LA CELDA A CONTINUACIÓN\n",
        "# TENER CUIDADO DE NO HACER FUNCIONAR LA CELDA ABAJO, DE LO CONTRARIO NO\n",
        "# PODRA VER LA SALIDA MÁS\n",
        "\n",
        "# array([[12, 13, 14, 15],\n",
        "#        [17, 18, 19, 20],\n",
        "#        [22, 23, 24, 25]])"
      ],
      "execution_count": 34,
      "outputs": []
    },
    {
      "cell_type": "code",
      "metadata": {
        "id": "zul5UzUAUPDK",
        "colab": {
          "base_uri": "https://localhost:8080/"
        },
        "outputId": "b92127d4-35c6-4a12-bec9-6fb1a9e61d91"
      },
      "source": [
        "mat[2:,1:]"
      ],
      "execution_count": 38,
      "outputs": [
        {
          "output_type": "execute_result",
          "data": {
            "text/plain": [
              "array([[12, 13, 14, 15],\n",
              "       [17, 18, 19, 20],\n",
              "       [22, 23, 24, 25]])"
            ]
          },
          "metadata": {
            "tags": []
          },
          "execution_count": 38
        }
      ]
    },
    {
      "cell_type": "code",
      "metadata": {
        "collapsed": true,
        "id": "PsNf1vRmUPDL"
      },
      "source": [
        "# ESCRIBA AQUÍ EL CÓDIGO QUE REPRODUCE LA SALIDA DE LA CELDA A CONTINUACIÓN\n",
        "# TENER CUIDADO DE NO HACER FUNCIONAR LA CELDA ABAJO, DE LO CONTRARIO NO\n",
        "# PODRA VER LA SALIDA MÁS\n",
        "\n",
        "# 20"
      ],
      "execution_count": null,
      "outputs": []
    },
    {
      "cell_type": "code",
      "metadata": {
        "id": "Ym0Yvd-TUPDK",
        "colab": {
          "base_uri": "https://localhost:8080/"
        },
        "outputId": "a33b1905-ce45-4eb1-b727-ea68fa68819c"
      },
      "source": [
        "int(mat[mat==20])"
      ],
      "execution_count": 40,
      "outputs": [
        {
          "output_type": "execute_result",
          "data": {
            "text/plain": [
              "20"
            ]
          },
          "metadata": {
            "tags": []
          },
          "execution_count": 40
        }
      ]
    },
    {
      "cell_type": "code",
      "metadata": {
        "collapsed": true,
        "id": "9B0Zit20UPDL"
      },
      "source": [
        "# ESCRIBA AQUÍ EL CÓDIGO QUE REPRODUCE LA SALIDA DE LA CELDA A CONTINUACIÓN\n",
        "# TENER CUIDADO DE NO HACER FUNCIONAR LA CELDA ABAJO, DE LO CONTRARIO NO\n",
        "# PODRA VER LA SALIDA MÁS\n",
        "\n",
        "# array([[ 2],\n",
        "#        [ 7],\n",
        "#        [12]])"
      ],
      "execution_count": 36,
      "outputs": []
    },
    {
      "cell_type": "code",
      "metadata": {
        "id": "1JpBMNIrUPDL",
        "colab": {
          "base_uri": "https://localhost:8080/"
        },
        "outputId": "443e2a8e-c6b0-4a18-8b14-81a7013f3d57"
      },
      "source": [
        "mat[:3,1:2]"
      ],
      "execution_count": 43,
      "outputs": [
        {
          "output_type": "execute_result",
          "data": {
            "text/plain": [
              "array([[ 2],\n",
              "       [ 7],\n",
              "       [12]])"
            ]
          },
          "metadata": {
            "tags": []
          },
          "execution_count": 43
        }
      ]
    },
    {
      "cell_type": "code",
      "metadata": {
        "collapsed": true,
        "id": "VICSGbYfUPDM"
      },
      "source": [
        "# ESCRIBA AQUÍ EL CÓDIGO QUE REPRODUCE LA SALIDA DE LA CELDA A CONTINUACIÓN\n",
        "# TENER CUIDADO DE NO HACER FUNCIONAR LA CELDA ABAJO, DE LO CONTRARIO NO\n",
        "# PODRA VER LA SALIDA MÁS\n",
        "\n",
        "array([21, 22, 23, 24, 25])"
      ],
      "execution_count": null,
      "outputs": []
    },
    {
      "cell_type": "code",
      "metadata": {
        "id": "IUzmPXKkUPDM",
        "colab": {
          "base_uri": "https://localhost:8080/"
        },
        "outputId": "7442afa7-ef57-4150-c293-0370d761cda2"
      },
      "source": [
        "mat[-1]"
      ],
      "execution_count": 45,
      "outputs": [
        {
          "output_type": "execute_result",
          "data": {
            "text/plain": [
              "array([21, 22, 23, 24, 25])"
            ]
          },
          "metadata": {
            "tags": []
          },
          "execution_count": 45
        }
      ]
    },
    {
      "cell_type": "code",
      "metadata": {
        "collapsed": true,
        "id": "7XjCJEjDlEbo"
      },
      "source": [
        "# ESCRIBA AQUÍ EL CÓDIGO QUE REPRODUCE LA SALIDA DE LA CELDA A CONTINUACIÓN\n",
        "# TENER CUIDADO DE NO HACER FUNCIONAR LA CELDA ABAJO, DE LO CONTRARIO NO\n",
        "# PODRA VER LA SALIDA MÁS\n",
        "\n",
        "# array([[16, 17, 18, 19, 20],\n",
        "#        [21, 22, 23, 24, 25]])"
      ],
      "execution_count": null,
      "outputs": []
    },
    {
      "cell_type": "code",
      "metadata": {
        "id": "yS6DyfR4UPDM",
        "colab": {
          "base_uri": "https://localhost:8080/"
        },
        "outputId": "45f8837c-6444-46aa-e2ac-7c43b5455bb4"
      },
      "source": [
        "mat[-2:]"
      ],
      "execution_count": 46,
      "outputs": [
        {
          "output_type": "execute_result",
          "data": {
            "text/plain": [
              "array([[16, 17, 18, 19, 20],\n",
              "       [21, 22, 23, 24, 25]])"
            ]
          },
          "metadata": {
            "tags": []
          },
          "execution_count": 46
        }
      ]
    },
    {
      "cell_type": "markdown",
      "metadata": {
        "id": "nGQVmQCAUPDM"
      },
      "source": [
        "### Ahora hacer lo siguiente"
      ]
    },
    {
      "cell_type": "markdown",
      "metadata": {
        "id": "JdNaExHDUPDN"
      },
      "source": [
        "#### Obtenga la suma de todos los valores en mat"
      ]
    },
    {
      "cell_type": "code",
      "metadata": {
        "id": "EaLhKqD9UPDN",
        "colab": {
          "base_uri": "https://localhost:8080/"
        },
        "outputId": "1be003cf-39e1-49d9-95ea-c26eb4afaa63"
      },
      "source": [
        "mat.sum()"
      ],
      "execution_count": 47,
      "outputs": [
        {
          "output_type": "execute_result",
          "data": {
            "text/plain": [
              "325"
            ]
          },
          "metadata": {
            "tags": []
          },
          "execution_count": 47
        }
      ]
    },
    {
      "cell_type": "markdown",
      "metadata": {
        "id": "r6BENO11UPDN"
      },
      "source": [
        "#### Obtenga la desviación estándar de los valores en mat"
      ]
    },
    {
      "cell_type": "code",
      "metadata": {
        "id": "ti8qj7U1UPDN",
        "colab": {
          "base_uri": "https://localhost:8080/"
        },
        "outputId": "010bddbf-5644-4d82-d52c-940ae8c09fac"
      },
      "source": [
        "mat.std()"
      ],
      "execution_count": 48,
      "outputs": [
        {
          "output_type": "execute_result",
          "data": {
            "text/plain": [
              "7.211102550927978"
            ]
          },
          "metadata": {
            "tags": []
          },
          "execution_count": 48
        }
      ]
    },
    {
      "cell_type": "markdown",
      "metadata": {
        "id": "q3wnEoeJUPDN"
      },
      "source": [
        "#### Obtenga la suma de todas las columnas en mat"
      ]
    },
    {
      "cell_type": "code",
      "metadata": {
        "id": "r2asZ-e7UPDO",
        "colab": {
          "base_uri": "https://localhost:8080/"
        },
        "outputId": "f81dc48f-dc53-47c7-bc54-0d601ae7cf4d"
      },
      "source": [
        "np.array(list(map(lambda x:x.sum(), mat.transpose())))"
      ],
      "execution_count": 65,
      "outputs": [
        {
          "output_type": "execute_result",
          "data": {
            "text/plain": [
              "array([55, 60, 65, 70, 75])"
            ]
          },
          "metadata": {
            "tags": []
          },
          "execution_count": 65
        }
      ]
    },
    {
      "cell_type": "markdown",
      "metadata": {
        "collapsed": true,
        "id": "PsSokSxSUPDO"
      },
      "source": [
        "# Buen trabajo!"
      ]
    }
  ]
}