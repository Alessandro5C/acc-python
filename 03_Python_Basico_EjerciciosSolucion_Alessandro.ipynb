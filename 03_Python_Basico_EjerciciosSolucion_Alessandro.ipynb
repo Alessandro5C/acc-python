{
  "nbformat": 4,
  "nbformat_minor": 0,
  "metadata": {
    "kernelspec": {
      "display_name": "Python 3",
      "language": "python",
      "name": "python3"
    },
    "language_info": {
      "codemirror_mode": {
        "name": "ipython",
        "version": 3
      },
      "file_extension": ".py",
      "mimetype": "text/x-python",
      "name": "python",
      "nbconvert_exporter": "python",
      "pygments_lexer": "ipython3",
      "version": "3.8.5"
    },
    "colab": {
      "name": "03-Python-Basico-EjerciciosSolucion-Alessandro.ipynb",
      "provenance": []
    }
  },
  "cells": [
    {
      "cell_type": "markdown",
      "metadata": {
        "id": "t3Lvr4tmFNzn"
      },
      "source": [
        "___\n",
        "\n",
        "<a href='https://jupyter-notebook.readthedocs.io/en/stable/examples/Notebook/Running%20Code.html'> <img src='https://www.python.org/static/img/python-logo.png' /></a>\n",
        "___\n",
        "# Python Basico - Ejercicios\n",
        "\n"
      ]
    },
    {
      "cell_type": "markdown",
      "metadata": {
        "id": "dPRV-bb5FNzy"
      },
      "source": [
        "## Ejercicios\n",
        "\n",
        "Responda las preguntas o complete las tareas descritas en negrita a continuación, use el método específico descrito si corresponde."
      ]
    },
    {
      "cell_type": "markdown",
      "metadata": {
        "id": "U7N1HZMFFNzz"
      },
      "source": [
        "** ¿Cuánto es 7 elevado a 4?**"
      ]
    },
    {
      "cell_type": "code",
      "metadata": {
        "id": "Dh1CpK1KFNzz",
        "colab": {
          "base_uri": "https://localhost:8080/"
        },
        "outputId": "d3869260-7278-4378-d7ce-9fe7a3154f63"
      },
      "source": [
        "7**4"
      ],
      "execution_count": 50,
      "outputs": [
        {
          "output_type": "execute_result",
          "data": {
            "text/plain": [
              "2401"
            ]
          },
          "metadata": {
            "tags": []
          },
          "execution_count": 50
        }
      ]
    },
    {
      "cell_type": "markdown",
      "metadata": {
        "id": "yNTMANjpFNz1"
      },
      "source": [
        "** Divida esta cadena:**\n",
        "\n",
        "    s = \"Hola mi estimado!\"\n",
        "    \n",
        "**en una lista. **"
      ]
    },
    {
      "cell_type": "code",
      "metadata": {
        "id": "6GCLEDz8FNz2"
      },
      "source": [
        "s = \"Hola mi estimado!\""
      ],
      "execution_count": 51,
      "outputs": []
    },
    {
      "cell_type": "code",
      "metadata": {
        "id": "DpgsxW_FFNz2",
        "colab": {
          "base_uri": "https://localhost:8080/"
        },
        "outputId": "69ee4eff-c0f7-4a2e-ff1d-226065ea4f38"
      },
      "source": [
        "list(s.split())"
      ],
      "execution_count": 52,
      "outputs": [
        {
          "output_type": "execute_result",
          "data": {
            "text/plain": [
              "['Hola', 'mi', 'estimado!']"
            ]
          },
          "metadata": {
            "tags": []
          },
          "execution_count": 52
        }
      ]
    },
    {
      "cell_type": "markdown",
      "metadata": {
        "id": "ieDbclMnFNz2"
      },
      "source": [
        "** Dadas las variables:**\n",
        "\n",
        "    planeta = \"Tierra\"\n",
        "    diametro = 12742\n",
        "\n",
        "** Use .format() para visualizar la siguente frase: **\n",
        "\n",
        "    El diametro de la Tierra es 12742 kilometros."
      ]
    },
    {
      "cell_type": "code",
      "metadata": {
        "id": "VNCjtzGWFNz3"
      },
      "source": [
        "planeta = \"Tierra\"\n",
        "diametro = 12742"
      ],
      "execution_count": 53,
      "outputs": []
    },
    {
      "cell_type": "code",
      "metadata": {
        "id": "zYrt29ziFNz3",
        "colab": {
          "base_uri": "https://localhost:8080/"
        },
        "outputId": "aff34ee0-d5e8-478d-a325-02a0ac84199c"
      },
      "source": [
        "print(\"El diametro de la {} es {} kilometros\".format(planeta, diametro))"
      ],
      "execution_count": 54,
      "outputs": [
        {
          "output_type": "stream",
          "text": [
            "El diametro de la Tierra es 12742 kilometros\n"
          ],
          "name": "stdout"
        }
      ]
    },
    {
      "cell_type": "markdown",
      "metadata": {
        "id": "MTkCH17MFNz3"
      },
      "source": [
        "** Dada esta lista anidada, use la indexación para obtener la palabra \"hola\"**"
      ]
    },
    {
      "cell_type": "code",
      "metadata": {
        "id": "5vXdMaD4FNz4"
      },
      "source": [
        "lst = [1,2,[3,4],[5,[100,200,['hola']],23,11],1,7]"
      ],
      "execution_count": 55,
      "outputs": []
    },
    {
      "cell_type": "code",
      "metadata": {
        "id": "o7wYABFwFNz4",
        "colab": {
          "base_uri": "https://localhost:8080/",
          "height": 35
        },
        "outputId": "09b7c9f9-860e-44e2-9b60-cc3626787b42"
      },
      "source": [
        "lst[3][1][2][0]"
      ],
      "execution_count": 56,
      "outputs": [
        {
          "output_type": "execute_result",
          "data": {
            "application/vnd.google.colaboratory.intrinsic+json": {
              "type": "string"
            },
            "text/plain": [
              "'hola'"
            ]
          },
          "metadata": {
            "tags": []
          },
          "execution_count": 56
        }
      ]
    },
    {
      "cell_type": "markdown",
      "metadata": {
        "id": "BbF-6lzzFNz4"
      },
      "source": [
        "** Dado este diccionario nido, tome la palabra \"hola\". Esté preparado, esto será molesto / complicado  **"
      ]
    },
    {
      "cell_type": "code",
      "metadata": {
        "id": "GbkemIxbFNz4"
      },
      "source": [
        "d = {'k1':[1,2,3,{'dificil':['oh','man','inicio',{'destino':[1,2,3,'hola']}]}]}"
      ],
      "execution_count": 57,
      "outputs": []
    },
    {
      "cell_type": "code",
      "metadata": {
        "id": "9HQV1YNDFNz5",
        "colab": {
          "base_uri": "https://localhost:8080/",
          "height": 35
        },
        "outputId": "3e433d7d-b4ad-4d32-c335-fe9fc1152c71"
      },
      "source": [
        "d['k1'][3]['dificil'][3]['destino'][3]"
      ],
      "execution_count": 58,
      "outputs": [
        {
          "output_type": "execute_result",
          "data": {
            "application/vnd.google.colaboratory.intrinsic+json": {
              "type": "string"
            },
            "text/plain": [
              "'hola'"
            ]
          },
          "metadata": {
            "tags": []
          },
          "execution_count": 58
        }
      ]
    },
    {
      "cell_type": "markdown",
      "metadata": {
        "id": "q0TueYLUFNz5"
      },
      "source": [
        "** ¿Cuál es la principal diferencia entre una tupla y una lista? **"
      ]
    },
    {
      "cell_type": "markdown",
      "metadata": {
        "id": "lhT8DrG7Jcjq"
      },
      "source": [
        "```\n",
        "RESPUESTA: Las tuplas son inmutables, una vez inicializada, los valores dentro no pueden ser cambiados.\n",
        "```"
      ]
    },
    {
      "cell_type": "markdown",
      "metadata": {
        "id": "DAkejaLbFNz5"
      },
      "source": [
        "** Cree una función que tome el dominio del sitio web de correo electrónico a partir de una cadena con el siguiente formato: **\n",
        "\n",
        "    user@dominio.com\n",
        "    \n",
        "**Entonces, por ejemplo, pasando \"user@domain.com\" retornaria: domain.com**"
      ]
    },
    {
      "cell_type": "code",
      "metadata": {
        "id": "vcj3L93fFNz6"
      },
      "source": [
        "def dominioGet(var):\n",
        "  var = var.split('@')\n",
        "  return var[-1]"
      ],
      "execution_count": 59,
      "outputs": []
    },
    {
      "cell_type": "code",
      "metadata": {
        "id": "ipp3LweOFNz6",
        "colab": {
          "base_uri": "https://localhost:8080/",
          "height": 35
        },
        "outputId": "b6777a6b-73a6-45e7-c35a-2aad959f3d9f"
      },
      "source": [
        "dominioGet('user@dominio.com')"
      ],
      "execution_count": 60,
      "outputs": [
        {
          "output_type": "execute_result",
          "data": {
            "application/vnd.google.colaboratory.intrinsic+json": {
              "type": "string"
            },
            "text/plain": [
              "'dominio.com'"
            ]
          },
          "metadata": {
            "tags": []
          },
          "execution_count": 60
        }
      ]
    },
    {
      "cell_type": "markdown",
      "metadata": {
        "id": "FXPW1M_cFNz6"
      },
      "source": [
        "** Cree una función básica que devuelva Verdadero si la palabra 'perro' está contenida en la cadena de entrada. No se preocupe por casos extremos como una puntuación que se adjunta a la palabra perro, pero tenga en cuenta las mayúsculas. **"
      ]
    },
    {
      "cell_type": "code",
      "metadata": {
        "id": "PaVoKr6jFNz7"
      },
      "source": [
        "def ubicaDog(var):\n",
        "  return ('perro' in var.lower())"
      ],
      "execution_count": 61,
      "outputs": []
    },
    {
      "cell_type": "code",
      "metadata": {
        "id": "OUP2yACQFNz7",
        "colab": {
          "base_uri": "https://localhost:8080/"
        },
        "outputId": "63d4f82e-d739-4a07-99f1-4d744b6f8039"
      },
      "source": [
        "ubicaDog('Esta el pERrO aqui?')"
      ],
      "execution_count": 62,
      "outputs": [
        {
          "output_type": "execute_result",
          "data": {
            "text/plain": [
              "True"
            ]
          },
          "metadata": {
            "tags": []
          },
          "execution_count": 62
        }
      ]
    },
    {
      "cell_type": "markdown",
      "metadata": {
        "id": "Ql_jZIn1FNz7"
      },
      "source": [
        "** Cree una función que cuente el número de veces que aparece la palabra \"perro\" en una cadena. Nuevamente ignore los casos extremos. **"
      ]
    },
    {
      "cell_type": "code",
      "metadata": {
        "id": "GqTmP9NLFNz7"
      },
      "source": [
        "def cuentaDog(var):\n",
        "  cnt, var = 0, var.lower()\n",
        "  for i in var.split():\n",
        "    if ('perro' in i):\n",
        "      cnt +=1\n",
        "  return cnt"
      ],
      "execution_count": 63,
      "outputs": []
    },
    {
      "cell_type": "code",
      "metadata": {
        "id": "Z7vdfY4IFNz7",
        "colab": {
          "base_uri": "https://localhost:8080/"
        },
        "outputId": "3d610450-88bc-4092-bacd-f95361f06232"
      },
      "source": [
        "cuentaDog('Este perro corre mas rapido que este otro perro no lo dudes!')"
      ],
      "execution_count": 64,
      "outputs": [
        {
          "output_type": "execute_result",
          "data": {
            "text/plain": [
              "2"
            ]
          },
          "metadata": {
            "tags": []
          },
          "execution_count": 64
        }
      ]
    },
    {
      "cell_type": "markdown",
      "metadata": {
        "id": "2G-I6ADrFNz8"
      },
      "source": [
        "** Utilice expresiones lambda y la función filter () para filtrar las palabras de una lista que comiencen con la letra 's'. Por ejemplo:**\n",
        "\n",
        "    seq = ['sopa','perro','salida','gato','excelente']\n",
        "\n",
        "**debe filtrarse solo:**\n",
        "\n",
        "    ['sopa','salida']"
      ]
    },
    {
      "cell_type": "code",
      "metadata": {
        "id": "0_nVSVisFNz8"
      },
      "source": [
        "seq = ['sopa','perro','salida','gato','excelente']"
      ],
      "execution_count": 65,
      "outputs": []
    },
    {
      "cell_type": "code",
      "metadata": {
        "id": "3V6bvc-ZFNz8",
        "colab": {
          "base_uri": "https://localhost:8080/"
        },
        "outputId": "defea2c9-50d6-48ac-cf70-20c7a321c416"
      },
      "source": [
        "list(filter(lambda x: 's'==x[0], map(lambda x:x, seq)))"
      ],
      "execution_count": 73,
      "outputs": [
        {
          "output_type": "execute_result",
          "data": {
            "text/plain": [
              "['sopa', 'salida']"
            ]
          },
          "metadata": {
            "tags": []
          },
          "execution_count": 73
        }
      ]
    },
    {
      "cell_type": "markdown",
      "metadata": {
        "id": "dXHsjVmoFNz9"
      },
      "source": [
        "### Ejercicio Final\n",
        "**Conduces demasiado rápido y un policía te detiene. Escribe una función para devolver uno de los 3 resultados posibles: \"Sin papeleta\", \"Papeleta NO GRAVE\" o \"Papeleta GRAVE\".\n",
        "   Si tu velocidad es de 60 o menos, el resultado es \"Sin papeleta\". Si la velocidad está entre 61\n",
        "   y 80 inclusive, el resultado es \"Papeleta NO GRAVE\". Si la velocidad es 81 o más, el resultado es \"Papeleta GRAVE\". A menos que sea tu cumpleaños (codificado como un valor booleano en los parámetros de la función), en tu cumpleaños, la velocidad puede ser 5 más alta en total de casos. **"
      ]
    },
    {
      "cell_type": "code",
      "metadata": {
        "id": "fjZfAo6AFNz9"
      },
      "source": [
        "def calcula_velocidad(velocidad, es_mi_cumple):\n",
        "  plus = 0\n",
        "  ans = [\"Sin papeleta\", \"Papeleta NO GRAVE\", \"Papeleta GRAVE\"]\n",
        "  if es_mi_cumple:\n",
        "    plus = 5\n",
        "  if velocidad >= 81+plus:\n",
        "    print(ans[2])\n",
        "    return\n",
        "  elif velocidad >=61+plus:\n",
        "    print(ans[1])\n",
        "    return\n",
        "  else:\n",
        "    print(ans[0])\n",
        "    return\n",
        "  pass\n"
      ],
      "execution_count": 77,
      "outputs": []
    },
    {
      "cell_type": "code",
      "metadata": {
        "id": "n5Y9lvZhFNz9",
        "colab": {
          "base_uri": "https://localhost:8080/"
        },
        "outputId": "46df6961-523c-4fe2-a405-fcb4bb751478"
      },
      "source": [
        "calcula_velocidad(81,True)"
      ],
      "execution_count": 78,
      "outputs": [
        {
          "output_type": "stream",
          "text": [
            "Papeleta NO GRAVE\n"
          ],
          "name": "stdout"
        }
      ]
    },
    {
      "cell_type": "code",
      "metadata": {
        "id": "WzQ2hJGqFNz9",
        "colab": {
          "base_uri": "https://localhost:8080/"
        },
        "outputId": "0a2de300-e96e-4d77-c588-4562782b035f"
      },
      "source": [
        "calcula_velocidad(81,False)"
      ],
      "execution_count": 84,
      "outputs": [
        {
          "output_type": "stream",
          "text": [
            "Papeleta GRAVE\n"
          ],
          "name": "stdout"
        }
      ]
    },
    {
      "cell_type": "markdown",
      "metadata": {
        "id": "zxOHuefCFNz-"
      },
      "source": [
        "# Buen trabajo!"
      ]
    }
  ]
}